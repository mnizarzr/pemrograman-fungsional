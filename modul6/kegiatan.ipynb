{
 "cells": [
  {
   "cell_type": "code",
   "execution_count": 3,
   "metadata": {},
   "outputs": [
    {
     "ename": "OSError",
     "evalue": "cannot open resource",
     "output_type": "error",
     "traceback": [
      "\u001b[0;31m---------------------------------------------------------------------------\u001b[0m",
      "\u001b[0;31mOSError\u001b[0m                                   Traceback (most recent call last)",
      "Cell \u001b[0;32mIn[3], line 23\u001b[0m\n\u001b[1;32m     21\u001b[0m \u001b[38;5;66;03m# Tambahkan teks \"Informatika JOSSS!\" pada gambar overlay\u001b[39;00m\n\u001b[1;32m     22\u001b[0m draw \u001b[38;5;241m=\u001b[39m ImageDraw\u001b[38;5;241m.\u001b[39mDraw(background_image)\n\u001b[0;32m---> 23\u001b[0m font \u001b[38;5;241m=\u001b[39m \u001b[43mImageFont\u001b[49m\u001b[38;5;241;43m.\u001b[39;49m\u001b[43mtruetype\u001b[49m\u001b[43m(\u001b[49m\u001b[38;5;124;43m\"\u001b[39;49m\u001b[38;5;124;43marial.ttf\u001b[39;49m\u001b[38;5;124;43m\"\u001b[39;49m\u001b[43m,\u001b[49m\u001b[43m \u001b[49m\u001b[38;5;241;43m24\u001b[39;49m\u001b[43m)\u001b[49m  \u001b[38;5;66;03m# Ganti dengan path font Arial di komputer Anda\u001b[39;00m\n\u001b[1;32m     24\u001b[0m text_position \u001b[38;5;241m=\u001b[39m (\u001b[38;5;241m100\u001b[39m, \u001b[38;5;241m100\u001b[39m)  \u001b[38;5;66;03m# Ganti dengan posisi teks yang diinginkan\u001b[39;00m\n\u001b[1;32m     25\u001b[0m text_color \u001b[38;5;241m=\u001b[39m (\u001b[38;5;241m255\u001b[39m, \u001b[38;5;241m255\u001b[39m, \u001b[38;5;241m255\u001b[39m)  \u001b[38;5;66;03m# Warna teks (putih)\u001b[39;00m\n",
      "File \u001b[0;32m~/.local/lib/python3.10/site-packages/PIL/ImageFont.py:791\u001b[0m, in \u001b[0;36mtruetype\u001b[0;34m(font, size, index, encoding, layout_engine)\u001b[0m\n\u001b[1;32m    788\u001b[0m     \u001b[38;5;28;01mreturn\u001b[39;00m FreeTypeFont(font, size, index, encoding, layout_engine)\n\u001b[1;32m    790\u001b[0m \u001b[38;5;28;01mtry\u001b[39;00m:\n\u001b[0;32m--> 791\u001b[0m     \u001b[38;5;28;01mreturn\u001b[39;00m \u001b[43mfreetype\u001b[49m\u001b[43m(\u001b[49m\u001b[43mfont\u001b[49m\u001b[43m)\u001b[49m\n\u001b[1;32m    792\u001b[0m \u001b[38;5;28;01mexcept\u001b[39;00m \u001b[38;5;167;01mOSError\u001b[39;00m:\n\u001b[1;32m    793\u001b[0m     \u001b[38;5;28;01mif\u001b[39;00m \u001b[38;5;129;01mnot\u001b[39;00m is_path(font):\n",
      "File \u001b[0;32m~/.local/lib/python3.10/site-packages/PIL/ImageFont.py:788\u001b[0m, in \u001b[0;36mtruetype.<locals>.freetype\u001b[0;34m(font)\u001b[0m\n\u001b[1;32m    787\u001b[0m \u001b[38;5;28;01mdef\u001b[39;00m \u001b[38;5;21mfreetype\u001b[39m(font):\n\u001b[0;32m--> 788\u001b[0m     \u001b[38;5;28;01mreturn\u001b[39;00m \u001b[43mFreeTypeFont\u001b[49m\u001b[43m(\u001b[49m\u001b[43mfont\u001b[49m\u001b[43m,\u001b[49m\u001b[43m \u001b[49m\u001b[43msize\u001b[49m\u001b[43m,\u001b[49m\u001b[43m \u001b[49m\u001b[43mindex\u001b[49m\u001b[43m,\u001b[49m\u001b[43m \u001b[49m\u001b[43mencoding\u001b[49m\u001b[43m,\u001b[49m\u001b[43m \u001b[49m\u001b[43mlayout_engine\u001b[49m\u001b[43m)\u001b[49m\n",
      "File \u001b[0;32m~/.local/lib/python3.10/site-packages/PIL/ImageFont.py:226\u001b[0m, in \u001b[0;36mFreeTypeFont.__init__\u001b[0;34m(self, font, size, index, encoding, layout_engine)\u001b[0m\n\u001b[1;32m    224\u001b[0m                 load_from_bytes(f)\n\u001b[1;32m    225\u001b[0m             \u001b[38;5;28;01mreturn\u001b[39;00m\n\u001b[0;32m--> 226\u001b[0m     \u001b[38;5;28mself\u001b[39m\u001b[38;5;241m.\u001b[39mfont \u001b[38;5;241m=\u001b[39m \u001b[43mcore\u001b[49m\u001b[38;5;241;43m.\u001b[39;49m\u001b[43mgetfont\u001b[49m\u001b[43m(\u001b[49m\n\u001b[1;32m    227\u001b[0m \u001b[43m        \u001b[49m\u001b[43mfont\u001b[49m\u001b[43m,\u001b[49m\u001b[43m \u001b[49m\u001b[43msize\u001b[49m\u001b[43m,\u001b[49m\u001b[43m \u001b[49m\u001b[43mindex\u001b[49m\u001b[43m,\u001b[49m\u001b[43m \u001b[49m\u001b[43mencoding\u001b[49m\u001b[43m,\u001b[49m\u001b[43m \u001b[49m\u001b[43mlayout_engine\u001b[49m\u001b[38;5;241;43m=\u001b[39;49m\u001b[43mlayout_engine\u001b[49m\n\u001b[1;32m    228\u001b[0m \u001b[43m    \u001b[49m\u001b[43m)\u001b[49m\n\u001b[1;32m    229\u001b[0m \u001b[38;5;28;01melse\u001b[39;00m:\n\u001b[1;32m    230\u001b[0m     load_from_bytes(font)\n",
      "\u001b[0;31mOSError\u001b[0m: cannot open resource"
     ]
    }
   ],
   "source": [
    "from PIL import Image, ImageDraw, ImageFont, ImageFilter, ImageEnhance\n",
    "\n",
    "# Buka kedua gambar menggunakan Pillow\n",
    "background_image = Image.open(\"background.jpeg\")  # Ganti dengan nama gambar latar belakang Anda\n",
    "overlay_image = Image.open(\"overlay.jpeg\")        # Ganti dengan nama gambar overlay Anda\n",
    "\n",
    "# Ubah gambar background menjadi hitam-putih, berotasi 30 derajat, dan blur\n",
    "background_image = background_image.convert(\"L\")  # Grayscale\n",
    "background_image = background_image.rotate(30)    # Rotasi 30 derajat\n",
    "background_image = background_image.filter(ImageFilter.BLUR)  # Blur\n",
    "\n",
    "# Ubah tingkat kecerahan dan kontras gambar overlay\n",
    "overlay_brightness = 1.6\n",
    "overlay_contrast = 1.1\n",
    "overlay_image = ImageEnhance.Brightness(overlay_image).enhance(overlay_brightness)\n",
    "overlay_image = ImageEnhance.Contrast(overlay_image).enhance(overlay_contrast)\n",
    "\n",
    "# Sisipkan gambar overlay ke dalam gambar background\n",
    "background_image.paste(overlay_image, (50, 50), overlay_image)\n",
    "\n",
    "# Tambahkan teks \"Informatika JOSSS!\" pada gambar overlay\n",
    "draw = ImageDraw.Draw(background_image)\n",
    "font = ImageFont.truetype(\"arial.ttf\", 24)  # Ganti dengan path font Arial di komputer Anda\n",
    "text_position = (100, 100)  # Ganti dengan posisi teks yang diinginkan\n",
    "text_color = (255, 255, 255)  # Warna teks (putih)\n",
    "\n",
    "draw.text(text_position, \"Informatika JOSSS!\", font=font, fill=text_color)\n",
    "\n",
    "# Simpan hasilnya\n",
    "background_image.save(\"hasil_final.jpg\")  # Ganti dengan nama file output yang diinginkan\n"
   ]
  }
 ],
 "metadata": {
  "kernelspec": {
   "display_name": "Python 3",
   "language": "python",
   "name": "python3"
  },
  "language_info": {
   "codemirror_mode": {
    "name": "ipython",
    "version": 3
   },
   "file_extension": ".py",
   "mimetype": "text/x-python",
   "name": "python",
   "nbconvert_exporter": "python",
   "pygments_lexer": "ipython3",
   "version": "3.10.8"
  }
 },
 "nbformat": 4,
 "nbformat_minor": 2
}
